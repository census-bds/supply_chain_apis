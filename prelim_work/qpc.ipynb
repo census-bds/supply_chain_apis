{
 "cells": [
  {
   "cell_type": "code",
   "execution_count": 3,
   "id": "92bc5800-ff14-4ba5-85e7-a4dd7b8bee67",
   "metadata": {},
   "outputs": [],
   "source": [
    "# install if not installed\n",
    "!pip install pandas --quiet \n",
    "!pip install openpyxl --quiet"
   ]
  },
  {
   "cell_type": "code",
   "execution_count": 13,
   "id": "98eb80c2-a895-4cfa-ab1d-795985733d63",
   "metadata": {},
   "outputs": [],
   "source": [
    "import pandas as pd\n",
    "from pathlib import Path\n",
    "import requests\n",
    "from bs4 import BeautifulSoup as bs"
   ]
  },
  {
   "cell_type": "code",
   "execution_count": 8,
   "id": "afd34b70-a821-4b18-96dc-5610f51d7904",
   "metadata": {},
   "outputs": [],
   "source": [
    "DATA_DIR = Path.cwd() / 'data'\n",
    "file_path_raw_data = DATA_DIR / ''"
   ]
  },
  {
   "cell_type": "code",
   "execution_count": 11,
   "id": "9d82c2f3-f44d-4da5-9477-c02d2d63eb8b",
   "metadata": {},
   "outputs": [
    {
     "data": {
      "text/plain": [
       "['https://www2.census.gov/programs-surveys/qpc/tables/2020',\n",
       " 'https://www2.census.gov/programs-surveys/qpc/tables/2021',\n",
       " 'https://www2.census.gov/programs-surveys/qpc/tables/2022']"
      ]
     },
     "execution_count": 11,
     "metadata": {},
     "output_type": "execute_result"
    }
   ],
   "source": [
    "years = [2020,2021,2022]\n",
    "\n",
    "urls = []\n",
    "for year in years: \n",
    "    template_url = f'https://www2.census.gov/programs-surveys/qpc/tables/{year}'\n",
    "    urls.append(template_url) \n",
    "urls"
   ]
  },
  {
   "cell_type": "code",
   "execution_count": 18,
   "id": "9dd29e54-bcd4-4b90-a76d-17eaa7d08a99",
   "metadata": {},
   "outputs": [
    {
     "ename": "NameError",
     "evalue": "name 'bs' is not defined",
     "output_type": "error",
     "traceback": [
      "\u001b[0;31m---------------------------------------------------------------------------\u001b[0m",
      "\u001b[0;31mNameError\u001b[0m                                 Traceback (most recent call last)",
      "Cell \u001b[0;32mIn [18], line 2\u001b[0m\n\u001b[1;32m      1\u001b[0m \u001b[38;5;28;01mfor\u001b[39;00m url \u001b[38;5;129;01min\u001b[39;00m urls: \n\u001b[0;32m----> 2\u001b[0m     \u001b[43mbs\u001b[49m\u001b[38;5;241m.\u001b[39mfind_all(\u001b[38;5;124m'\u001b[39m\u001b[38;5;124ma\u001b[39m\u001b[38;5;124m'\u001b[39m, href\u001b[38;5;241m=\u001b[39m\u001b[38;5;28;01mTrue\u001b[39;00m)\n",
      "\u001b[0;31mNameError\u001b[0m: name 'bs' is not defined"
     ]
    }
   ],
   "source": [
    "soup = BeautifulSoup(html_doc, 'html.parser')\n",
    "\n",
    "for url in urls: \n",
    "    bs.find_all('a', href=True)"
   ]
  },
  {
   "cell_type": "code",
   "execution_count": 16,
   "id": "feeb7f29-1710-4482-bd7d-d93511f53039",
   "metadata": {},
   "outputs": [
    {
     "data": {
      "text/plain": [
       "<Response [200]>"
      ]
     },
     "execution_count": 16,
     "metadata": {},
     "output_type": "execute_result"
    }
   ],
   "source": [
    "requests.get('https://www2.census.gov/programs-surveys/qpc/tables/2020')"
   ]
  },
  {
   "cell_type": "code",
   "execution_count": null,
   "id": "298f72eb-9b77-450a-bd7e-8ccffd4c7e29",
   "metadata": {},
   "outputs": [],
   "source": []
  }
 ],
 "metadata": {
  "kernelspec": {
   "display_name": "sc_conda_env",
   "language": "python",
   "name": "sc"
  },
  "language_info": {
   "codemirror_mode": {
    "name": "ipython",
    "version": 3
   },
   "file_extension": ".py",
   "mimetype": "text/x-python",
   "name": "python",
   "nbconvert_exporter": "python",
   "pygments_lexer": "ipython3",
   "version": "3.10.4"
  }
 },
 "nbformat": 4,
 "nbformat_minor": 5
}
